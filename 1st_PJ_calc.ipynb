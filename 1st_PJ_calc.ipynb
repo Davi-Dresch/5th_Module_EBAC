{
  "nbformat": 4,
  "nbformat_minor": 0,
  "metadata": {
    "colab": {
      "provenance": []
    },
    "kernelspec": {
      "name": "python3",
      "display_name": "Python 3"
    },
    "language_info": {
      "name": "python"
    }
  },
  "cells": [
    {
      "cell_type": "markdown",
      "source": [
        "#Projeto calculadora básica"
      ],
      "metadata": {
        "id": "HocfYUszmh0b"
      }
    },
    {
      "cell_type": "code",
      "source": [
        "start = input(\"Voce gostaria de inicializar a calculadora?, 1 - Sim, 2 - Nao\")\n",
        "\n",
        "print('''OBS: Toda operacao tem como primeiro valor o primeiro inserido\n",
        "              Por exemplo; primeiro numero - segundo numero.\n",
        "              Ah, e True = Verdade e False = Falso.    ''')\n",
        "\n",
        "for x in start:\n",
        "  if start == '1':\n",
        "     escolha_n1 = float(input(\"Escreva um numero: \"))\n",
        "     escolha_n2 = float(input(\"Escreva outro numero: \"))\n",
        "  else:\n",
        "    print(\"Ok então :/\")\n",
        "    break\n",
        "\n",
        "  escolha_op = input('''Escolha que oque queres fazer com os numeros:\n",
        "                              Operacao Aritmetica - 1\n",
        "                              Operacao Relacional - 2\n",
        "                               ''')\n",
        "\n",
        "  if escolha_op == '1':\n",
        "      escolha_operacao_a = int(input('''Escolha uma operacao aritmetica:\n",
        "                                 1 - Soma\n",
        "                                 2 - Subtracao\n",
        "                                 3 - Divisao\n",
        "                                 4 - Divisao Inteira\n",
        "                                 5 - Multiplicacao\n",
        "                                 6 - Resto da divisao\n",
        "                                 7 - Potenciacao\n",
        "                                  '''))\n",
        "\n",
        "      if escolha_operacao_a == 1:\n",
        "        print('O resultado da soma foi: ', escolha_n1 + escolha_n2)\n",
        "      elif escolha_operacao_a == 2:\n",
        "        print('O resultado da subtracao foi: ', escolha_n1 - escolha_n2)\n",
        "      elif escolha_operacao_a == 3:\n",
        "        print('O resultado da divisao foi: ', escolha_n1 / escolha_n2)\n",
        "      elif escolha_operacao_a == 4:\n",
        "        print('O resultado da divisao inteira foi: ', escolha_n1 // escolha_n2)\n",
        "      elif escolha_operacao_a == 5:\n",
        "        print('O resultado da multiplicacao foi: ', escolha_n1 * escolha_n2)\n",
        "      elif escolha_operacao_a == 6:\n",
        "        print('O resultado do resto da divisao foi: ', escolha_n1 % escolha_n2)\n",
        "      elif escolha_operacao_a == 7:\n",
        "        print('O resultado da potenciacao foi: ', escolha_n1 ** escolha_n2)\n",
        "      else:\n",
        "        print(\"Escreva um numero valido!\")\n",
        "        break\n",
        "\n",
        "  if escolha_op == '2':\n",
        "    escolha_operacao_r = int(input('''Escolha uma operacao relacional:\n",
        "                                1 - Menor\n",
        "                                2 - Maior\n",
        "                                3 - Igual\n",
        "                                4 - Diferente\n",
        "                                 '''))\n",
        "\n",
        "    if escolha_operacao_r == 1:\n",
        "        print('O primeiro numero e menor?: ', escolha_n1 < escolha_n2)\n",
        "    elif escolha_operacao_r == 2:\n",
        "      print('O primeiro numero e maior?: ', escolha_n1 > escolha_n2)\n",
        "    elif escolha_operacao_r == 3:\n",
        "      print('Os numeros sao iguais?: ', escolha_n1 == escolha_n2)\n",
        "    elif escolha_operacao_r == 4:\n",
        "      print('Os numeros sao diferentes?: ', escolha_n1 != escolha_n2)\n",
        "    else:\n",
        "      print(\"Escreva um numero valido!\")\n",
        "      break\n",
        "\n",
        "  print(\"Muito obrigado por usar minha calculadora básica!\")"
      ],
      "metadata": {
        "colab": {
          "base_uri": "https://localhost:8080/"
        },
        "id": "HdrJNxl_Vb5x",
        "outputId": "33b34e37-73d4-478f-b2d8-59443526479d"
      },
      "execution_count": 49,
      "outputs": [
        {
          "output_type": "stream",
          "name": "stdout",
          "text": [
            "Voce gostaria de inicializar a calculadora?, 1 - Sim, 2 - Nao1\n",
            "OBS: Toda operacao tem como primeiro valor o primeiro inserido\n",
            "              Por exemplo; primeiro numero - segundo numero.\n",
            "              Ah, e True = Verdade e False = Falso.    \n",
            "Escreva um numero: 5\n",
            "Escreva outro numero: 9\n",
            "Escolha que oque queres fazer com os numeros:\n",
            "                              Operacao Aritmetica - 1\n",
            "                              Operacao Relacional - 2\n",
            "                               1\n",
            "Escolha uma operacao aritmetica:\n",
            "                                 1 - Soma\n",
            "                                 2 - Subtracao\n",
            "                                 3 - Divisao\n",
            "                                 4 - Divisao Inteira\n",
            "                                 5 - Multiplicacao\n",
            "                                 6 - Resto da divisao\n",
            "                                 7 - Potenciacao\n",
            "                                  7\n",
            "O resultado da potenciacao foi:  1953125.0\n",
            "Muito obrigado por usar minha calculadora básica!\n"
          ]
        }
      ]
    },
    {
      "cell_type": "code",
      "source": [],
      "metadata": {
        "id": "rl7Gju8lYu6t"
      },
      "execution_count": 47,
      "outputs": []
    }
  ]
}